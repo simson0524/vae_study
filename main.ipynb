{
 "cells": [
  {
   "cell_type": "code",
   "execution_count": null,
   "metadata": {},
   "outputs": [],
   "source": [
    "# main.py\n",
    "\n",
    "from src.utils import load_config, set_seed\n",
    "from src.dataset import get_loaders\n",
    "from src.model import ConvVAE, FlattenVAE\n",
    "from src.vae_train import vae_train\n",
    "import argparse\n",
    "\n",
    "def parse_args():\n",
    "    ap = argparse.ArgumentParser()\n",
    "    ap.add_argument(\"--config\", type=str, default=\"config/config.yaml\")\n",
    "    \n",
    "    return ap.parse_args()\n",
    "\n",
    "\n",
    "def main():\n",
    "    args = parse_args()\n",
    "    config = load_config(args.config)\n",
    "    set_seed(config['seed'])\n",
    "\n",
    "    train_loader, test_loader = get_loaders(\n",
    "        root=config['data']['root'],\n",
    "        name=config['data']['name'],\n",
    "        batch_size=config['train']['batch_size'],\n",
    "        num_workers=config['train']['num_workers'],\n",
    "    )\n",
    "\n",
    "    model = ConvVAE(latent_dim=config['model']['latent_dim'])\n",
    "    vae_train(model, train_loader, test_loader, config)\n",
    "\n",
    "\n",
    "if __name__ == \"__main__\":\n",
    "    main()"
   ]
  }
 ],
 "metadata": {
  "kernelspec": {
   "display_name": "Python 3",
   "language": "python",
   "name": "python3"
  },
  "language_info": {
   "name": "python",
   "version": "3.13.0"
  }
 },
 "nbformat": 4,
 "nbformat_minor": 2
}
